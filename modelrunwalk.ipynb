{
  "nbformat": 4,
  "nbformat_minor": 0,
  "metadata": {
    "colab": {
      "name": "modelrunwalk.ipynb",
      "provenance": [],
      "authorship_tag": "ABX9TyN2fdjRBE/7DY5wKFTweZuV",
      "include_colab_link": true
    },
    "kernelspec": {
      "name": "python3",
      "display_name": "Python 3"
    }
  },
  "cells": [
    {
      "cell_type": "markdown",
      "metadata": {
        "id": "view-in-github",
        "colab_type": "text"
      },
      "source": [
        "<a href=\"https://colab.research.google.com/github/adrien50/Human-Activity-Recognition/blob/main/modelrunwalk.ipynb\" target=\"_parent\"><img src=\"https://colab.research.google.com/assets/colab-badge.svg\" alt=\"Open In Colab\"/></a>"
      ]
    },
    {
      "cell_type": "markdown",
      "metadata": {
        "id": "z0dpiu2xiMxI"
      },
      "source": [
        "## Upload libraries"
      ]
    },
    {
      "cell_type": "code",
      "metadata": {
        "id": "075r4W6ZiPPr"
      },
      "source": [
        "import numpy as np # linear algebra\n",
        "import pandas as pd # data processing, CSV file I/O (e.g. pd.read_csv)\n",
        "\n",
        "from sklearn.model_selection import train_test_split\n",
        "from sklearn.preprocessing import StandardScaler\n",
        "\n",
        "import matplotlib.pyplot as plt\n",
        "\n",
        "from subprocess import check_output\n",
        "from datetime import time"
      ],
      "execution_count": null,
      "outputs": []
    },
    {
      "cell_type": "code",
      "metadata": {
        "id": "FKeEW48-ih01"
      },
      "source": [
        "# Load Dataset \n",
        "train = pd.read_csv('train.csv')\n",
        "test = pd.read_csv('test.csv')"
      ],
      "execution_count": null,
      "outputs": []
    },
    {
      "cell_type": "code",
      "metadata": {
        "id": "7VUl4qTbXzlP",
        "outputId": "e4d663a4-cb94-4868-924e-ca69a40f2626",
        "colab": {
          "base_uri": "https://localhost:8080/",
          "height": 309
        }
      },
      "source": [
        "train.head()"
      ],
      "execution_count": null,
      "outputs": [
        {
          "output_type": "execute_result",
          "data": {
            "text/html": [
              "<div>\n",
              "<style scoped>\n",
              "    .dataframe tbody tr th:only-of-type {\n",
              "        vertical-align: middle;\n",
              "    }\n",
              "\n",
              "    .dataframe tbody tr th {\n",
              "        vertical-align: top;\n",
              "    }\n",
              "\n",
              "    .dataframe thead th {\n",
              "        text-align: right;\n",
              "    }\n",
              "</style>\n",
              "<table border=\"1\" class=\"dataframe\">\n",
              "  <thead>\n",
              "    <tr style=\"text-align: right;\">\n",
              "      <th></th>\n",
              "      <th>date</th>\n",
              "      <th>time</th>\n",
              "      <th>username</th>\n",
              "      <th>wrist</th>\n",
              "      <th>activity</th>\n",
              "      <th>acceleration_x</th>\n",
              "      <th>acceleration_y</th>\n",
              "      <th>acceleration_z</th>\n",
              "      <th>gyro_x</th>\n",
              "      <th>gyro_y</th>\n",
              "      <th>gyro_z</th>\n",
              "    </tr>\n",
              "  </thead>\n",
              "  <tbody>\n",
              "    <tr>\n",
              "      <th>0</th>\n",
              "      <td>2017-6-30</td>\n",
              "      <td>13:51:15:847724020</td>\n",
              "      <td>viktor</td>\n",
              "      <td>0</td>\n",
              "      <td>0</td>\n",
              "      <td>0.2650</td>\n",
              "      <td>-0.7814</td>\n",
              "      <td>-0.0076</td>\n",
              "      <td>-0.0590</td>\n",
              "      <td>0.0325</td>\n",
              "      <td>-2.9296</td>\n",
              "    </tr>\n",
              "    <tr>\n",
              "      <th>1</th>\n",
              "      <td>2017-6-30</td>\n",
              "      <td>13:51:16:246945023</td>\n",
              "      <td>viktor</td>\n",
              "      <td>0</td>\n",
              "      <td>0</td>\n",
              "      <td>0.6722</td>\n",
              "      <td>-1.1233</td>\n",
              "      <td>-0.2344</td>\n",
              "      <td>-0.1757</td>\n",
              "      <td>0.0208</td>\n",
              "      <td>0.1269</td>\n",
              "    </tr>\n",
              "    <tr>\n",
              "      <th>2</th>\n",
              "      <td>2017-6-30</td>\n",
              "      <td>13:51:16:446233987</td>\n",
              "      <td>viktor</td>\n",
              "      <td>0</td>\n",
              "      <td>0</td>\n",
              "      <td>0.4399</td>\n",
              "      <td>-1.4817</td>\n",
              "      <td>0.0722</td>\n",
              "      <td>-0.9105</td>\n",
              "      <td>0.1063</td>\n",
              "      <td>-2.4367</td>\n",
              "    </tr>\n",
              "    <tr>\n",
              "      <th>3</th>\n",
              "      <td>2017-6-30</td>\n",
              "      <td>13:51:16:646117985</td>\n",
              "      <td>viktor</td>\n",
              "      <td>0</td>\n",
              "      <td>0</td>\n",
              "      <td>0.3031</td>\n",
              "      <td>-0.8125</td>\n",
              "      <td>0.0888</td>\n",
              "      <td>0.1199</td>\n",
              "      <td>-0.4099</td>\n",
              "      <td>-2.9336</td>\n",
              "    </tr>\n",
              "    <tr>\n",
              "      <th>4</th>\n",
              "      <td>2017-6-30</td>\n",
              "      <td>13:51:16:846738994</td>\n",
              "      <td>viktor</td>\n",
              "      <td>0</td>\n",
              "      <td>0</td>\n",
              "      <td>0.4814</td>\n",
              "      <td>-0.9312</td>\n",
              "      <td>0.0359</td>\n",
              "      <td>0.0527</td>\n",
              "      <td>0.4379</td>\n",
              "      <td>2.4922</td>\n",
              "    </tr>\n",
              "  </tbody>\n",
              "</table>\n",
              "</div>"
            ],
            "text/plain": [
              "        date                time username  ...  gyro_x  gyro_y  gyro_z\n",
              "0  2017-6-30  13:51:15:847724020   viktor  ... -0.0590  0.0325 -2.9296\n",
              "1  2017-6-30  13:51:16:246945023   viktor  ... -0.1757  0.0208  0.1269\n",
              "2  2017-6-30  13:51:16:446233987   viktor  ... -0.9105  0.1063 -2.4367\n",
              "3  2017-6-30  13:51:16:646117985   viktor  ...  0.1199 -0.4099 -2.9336\n",
              "4  2017-6-30  13:51:16:846738994   viktor  ...  0.0527  0.4379  2.4922\n",
              "\n",
              "[5 rows x 11 columns]"
            ]
          },
          "metadata": {
            "tags": []
          },
          "execution_count": 145
        }
      ]
    },
    {
      "cell_type": "code",
      "metadata": {
        "id": "pvKWva0SX3fI",
        "outputId": "e5246b5b-85bf-4382-892c-4bb74b87f3b4",
        "colab": {
          "base_uri": "https://localhost:8080/",
          "height": 309
        }
      },
      "source": [
        "test.head()"
      ],
      "execution_count": null,
      "outputs": [
        {
          "output_type": "execute_result",
          "data": {
            "text/html": [
              "<div>\n",
              "<style scoped>\n",
              "    .dataframe tbody tr th:only-of-type {\n",
              "        vertical-align: middle;\n",
              "    }\n",
              "\n",
              "    .dataframe tbody tr th {\n",
              "        vertical-align: top;\n",
              "    }\n",
              "\n",
              "    .dataframe thead th {\n",
              "        text-align: right;\n",
              "    }\n",
              "</style>\n",
              "<table border=\"1\" class=\"dataframe\">\n",
              "  <thead>\n",
              "    <tr style=\"text-align: right;\">\n",
              "      <th></th>\n",
              "      <th>date</th>\n",
              "      <th>time</th>\n",
              "      <th>username</th>\n",
              "      <th>wrist</th>\n",
              "      <th>activity</th>\n",
              "      <th>acceleration_x</th>\n",
              "      <th>acceleration_y</th>\n",
              "      <th>acceleration_z</th>\n",
              "      <th>gyro_x</th>\n",
              "      <th>gyro_y</th>\n",
              "      <th>gyro_z</th>\n",
              "    </tr>\n",
              "  </thead>\n",
              "  <tbody>\n",
              "    <tr>\n",
              "      <th>0</th>\n",
              "      <td>2017-6-30</td>\n",
              "      <td>13:51:15:847724020</td>\n",
              "      <td>viktor</td>\n",
              "      <td>0</td>\n",
              "      <td>0</td>\n",
              "      <td>0.2650</td>\n",
              "      <td>-0.7814</td>\n",
              "      <td>-0.0076</td>\n",
              "      <td>-0.0590</td>\n",
              "      <td>0.0325</td>\n",
              "      <td>-2.9296</td>\n",
              "    </tr>\n",
              "    <tr>\n",
              "      <th>1</th>\n",
              "      <td>2017-6-30</td>\n",
              "      <td>13:51:16:246945023</td>\n",
              "      <td>viktor</td>\n",
              "      <td>0</td>\n",
              "      <td>0</td>\n",
              "      <td>0.6722</td>\n",
              "      <td>-1.1233</td>\n",
              "      <td>-0.2344</td>\n",
              "      <td>-0.1757</td>\n",
              "      <td>0.0208</td>\n",
              "      <td>0.1269</td>\n",
              "    </tr>\n",
              "    <tr>\n",
              "      <th>2</th>\n",
              "      <td>2017-6-30</td>\n",
              "      <td>13:51:16:446233987</td>\n",
              "      <td>viktor</td>\n",
              "      <td>0</td>\n",
              "      <td>0</td>\n",
              "      <td>0.4399</td>\n",
              "      <td>-1.4817</td>\n",
              "      <td>0.0722</td>\n",
              "      <td>-0.9105</td>\n",
              "      <td>0.1063</td>\n",
              "      <td>-2.4367</td>\n",
              "    </tr>\n",
              "    <tr>\n",
              "      <th>3</th>\n",
              "      <td>2017-6-30</td>\n",
              "      <td>13:51:16:646117985</td>\n",
              "      <td>viktor</td>\n",
              "      <td>0</td>\n",
              "      <td>0</td>\n",
              "      <td>0.3031</td>\n",
              "      <td>-0.8125</td>\n",
              "      <td>0.0888</td>\n",
              "      <td>0.1199</td>\n",
              "      <td>-0.4099</td>\n",
              "      <td>-2.9336</td>\n",
              "    </tr>\n",
              "    <tr>\n",
              "      <th>4</th>\n",
              "      <td>2017-6-30</td>\n",
              "      <td>13:51:16:846738994</td>\n",
              "      <td>viktor</td>\n",
              "      <td>0</td>\n",
              "      <td>0</td>\n",
              "      <td>0.4814</td>\n",
              "      <td>-0.9312</td>\n",
              "      <td>0.0359</td>\n",
              "      <td>0.0527</td>\n",
              "      <td>0.4379</td>\n",
              "      <td>2.4922</td>\n",
              "    </tr>\n",
              "  </tbody>\n",
              "</table>\n",
              "</div>"
            ],
            "text/plain": [
              "        date                time username  ...  gyro_x  gyro_y  gyro_z\n",
              "0  2017-6-30  13:51:15:847724020   viktor  ... -0.0590  0.0325 -2.9296\n",
              "1  2017-6-30  13:51:16:246945023   viktor  ... -0.1757  0.0208  0.1269\n",
              "2  2017-6-30  13:51:16:446233987   viktor  ... -0.9105  0.1063 -2.4367\n",
              "3  2017-6-30  13:51:16:646117985   viktor  ...  0.1199 -0.4099 -2.9336\n",
              "4  2017-6-30  13:51:16:846738994   viktor  ...  0.0527  0.4379  2.4922\n",
              "\n",
              "[5 rows x 11 columns]"
            ]
          },
          "metadata": {
            "tags": []
          },
          "execution_count": 146
        }
      ]
    },
    {
      "cell_type": "code",
      "metadata": {
        "id": "y6YQCDCLZIky",
        "outputId": "600deff1-3901-41f1-e9a0-1cea2944ea72",
        "colab": {
          "base_uri": "https://localhost:8080/",
          "height": 34
        }
      },
      "source": [
        "train.shape,test.shape"
      ],
      "execution_count": null,
      "outputs": [
        {
          "output_type": "execute_result",
          "data": {
            "text/plain": [
              "((88588, 11), (88588, 11))"
            ]
          },
          "metadata": {
            "tags": []
          },
          "execution_count": 147
        }
      ]
    },
    {
      "cell_type": "code",
      "metadata": {
        "id": "kknc7dfujNOk"
      },
      "source": [
        "# Drop date, time and username and wrist\n",
        "train = train.drop([\"date\", \"time\", \"username\", \"wrist\"] , axis=1)\n",
        "test = test.drop([\"date\", \"time\", \"username\", \"wrist\"] , axis=1)"
      ],
      "execution_count": null,
      "outputs": []
    },
    {
      "cell_type": "code",
      "metadata": {
        "id": "8IOQgk2E03d7",
        "outputId": "fa42eb0b-0aab-480f-b215-be3156d43cd6",
        "colab": {
          "base_uri": "https://localhost:8080/",
          "height": 204
        }
      },
      "source": [
        "train.head()"
      ],
      "execution_count": null,
      "outputs": [
        {
          "output_type": "execute_result",
          "data": {
            "text/html": [
              "<div>\n",
              "<style scoped>\n",
              "    .dataframe tbody tr th:only-of-type {\n",
              "        vertical-align: middle;\n",
              "    }\n",
              "\n",
              "    .dataframe tbody tr th {\n",
              "        vertical-align: top;\n",
              "    }\n",
              "\n",
              "    .dataframe thead th {\n",
              "        text-align: right;\n",
              "    }\n",
              "</style>\n",
              "<table border=\"1\" class=\"dataframe\">\n",
              "  <thead>\n",
              "    <tr style=\"text-align: right;\">\n",
              "      <th></th>\n",
              "      <th>activity</th>\n",
              "      <th>acceleration_x</th>\n",
              "      <th>acceleration_y</th>\n",
              "      <th>acceleration_z</th>\n",
              "      <th>gyro_x</th>\n",
              "      <th>gyro_y</th>\n",
              "      <th>gyro_z</th>\n",
              "    </tr>\n",
              "  </thead>\n",
              "  <tbody>\n",
              "    <tr>\n",
              "      <th>0</th>\n",
              "      <td>0</td>\n",
              "      <td>0.2650</td>\n",
              "      <td>-0.7814</td>\n",
              "      <td>-0.0076</td>\n",
              "      <td>-0.0590</td>\n",
              "      <td>0.0325</td>\n",
              "      <td>-2.9296</td>\n",
              "    </tr>\n",
              "    <tr>\n",
              "      <th>1</th>\n",
              "      <td>0</td>\n",
              "      <td>0.6722</td>\n",
              "      <td>-1.1233</td>\n",
              "      <td>-0.2344</td>\n",
              "      <td>-0.1757</td>\n",
              "      <td>0.0208</td>\n",
              "      <td>0.1269</td>\n",
              "    </tr>\n",
              "    <tr>\n",
              "      <th>2</th>\n",
              "      <td>0</td>\n",
              "      <td>0.4399</td>\n",
              "      <td>-1.4817</td>\n",
              "      <td>0.0722</td>\n",
              "      <td>-0.9105</td>\n",
              "      <td>0.1063</td>\n",
              "      <td>-2.4367</td>\n",
              "    </tr>\n",
              "    <tr>\n",
              "      <th>3</th>\n",
              "      <td>0</td>\n",
              "      <td>0.3031</td>\n",
              "      <td>-0.8125</td>\n",
              "      <td>0.0888</td>\n",
              "      <td>0.1199</td>\n",
              "      <td>-0.4099</td>\n",
              "      <td>-2.9336</td>\n",
              "    </tr>\n",
              "    <tr>\n",
              "      <th>4</th>\n",
              "      <td>0</td>\n",
              "      <td>0.4814</td>\n",
              "      <td>-0.9312</td>\n",
              "      <td>0.0359</td>\n",
              "      <td>0.0527</td>\n",
              "      <td>0.4379</td>\n",
              "      <td>2.4922</td>\n",
              "    </tr>\n",
              "  </tbody>\n",
              "</table>\n",
              "</div>"
            ],
            "text/plain": [
              "   activity  acceleration_x  acceleration_y  ...  gyro_x  gyro_y  gyro_z\n",
              "0         0          0.2650         -0.7814  ... -0.0590  0.0325 -2.9296\n",
              "1         0          0.6722         -1.1233  ... -0.1757  0.0208  0.1269\n",
              "2         0          0.4399         -1.4817  ... -0.9105  0.1063 -2.4367\n",
              "3         0          0.3031         -0.8125  ...  0.1199 -0.4099 -2.9336\n",
              "4         0          0.4814         -0.9312  ...  0.0527  0.4379  2.4922\n",
              "\n",
              "[5 rows x 7 columns]"
            ]
          },
          "metadata": {
            "tags": []
          },
          "execution_count": 149
        }
      ]
    },
    {
      "cell_type": "code",
      "metadata": {
        "id": "pkGM7aO609_c",
        "outputId": "d961b79b-8238-48b6-a614-79b86306522e",
        "colab": {
          "base_uri": "https://localhost:8080/",
          "height": 204
        }
      },
      "source": [
        "test.head()"
      ],
      "execution_count": null,
      "outputs": [
        {
          "output_type": "execute_result",
          "data": {
            "text/html": [
              "<div>\n",
              "<style scoped>\n",
              "    .dataframe tbody tr th:only-of-type {\n",
              "        vertical-align: middle;\n",
              "    }\n",
              "\n",
              "    .dataframe tbody tr th {\n",
              "        vertical-align: top;\n",
              "    }\n",
              "\n",
              "    .dataframe thead th {\n",
              "        text-align: right;\n",
              "    }\n",
              "</style>\n",
              "<table border=\"1\" class=\"dataframe\">\n",
              "  <thead>\n",
              "    <tr style=\"text-align: right;\">\n",
              "      <th></th>\n",
              "      <th>activity</th>\n",
              "      <th>acceleration_x</th>\n",
              "      <th>acceleration_y</th>\n",
              "      <th>acceleration_z</th>\n",
              "      <th>gyro_x</th>\n",
              "      <th>gyro_y</th>\n",
              "      <th>gyro_z</th>\n",
              "    </tr>\n",
              "  </thead>\n",
              "  <tbody>\n",
              "    <tr>\n",
              "      <th>0</th>\n",
              "      <td>0</td>\n",
              "      <td>0.2650</td>\n",
              "      <td>-0.7814</td>\n",
              "      <td>-0.0076</td>\n",
              "      <td>-0.0590</td>\n",
              "      <td>0.0325</td>\n",
              "      <td>-2.9296</td>\n",
              "    </tr>\n",
              "    <tr>\n",
              "      <th>1</th>\n",
              "      <td>0</td>\n",
              "      <td>0.6722</td>\n",
              "      <td>-1.1233</td>\n",
              "      <td>-0.2344</td>\n",
              "      <td>-0.1757</td>\n",
              "      <td>0.0208</td>\n",
              "      <td>0.1269</td>\n",
              "    </tr>\n",
              "    <tr>\n",
              "      <th>2</th>\n",
              "      <td>0</td>\n",
              "      <td>0.4399</td>\n",
              "      <td>-1.4817</td>\n",
              "      <td>0.0722</td>\n",
              "      <td>-0.9105</td>\n",
              "      <td>0.1063</td>\n",
              "      <td>-2.4367</td>\n",
              "    </tr>\n",
              "    <tr>\n",
              "      <th>3</th>\n",
              "      <td>0</td>\n",
              "      <td>0.3031</td>\n",
              "      <td>-0.8125</td>\n",
              "      <td>0.0888</td>\n",
              "      <td>0.1199</td>\n",
              "      <td>-0.4099</td>\n",
              "      <td>-2.9336</td>\n",
              "    </tr>\n",
              "    <tr>\n",
              "      <th>4</th>\n",
              "      <td>0</td>\n",
              "      <td>0.4814</td>\n",
              "      <td>-0.9312</td>\n",
              "      <td>0.0359</td>\n",
              "      <td>0.0527</td>\n",
              "      <td>0.4379</td>\n",
              "      <td>2.4922</td>\n",
              "    </tr>\n",
              "  </tbody>\n",
              "</table>\n",
              "</div>"
            ],
            "text/plain": [
              "   activity  acceleration_x  acceleration_y  ...  gyro_x  gyro_y  gyro_z\n",
              "0         0          0.2650         -0.7814  ... -0.0590  0.0325 -2.9296\n",
              "1         0          0.6722         -1.1233  ... -0.1757  0.0208  0.1269\n",
              "2         0          0.4399         -1.4817  ... -0.9105  0.1063 -2.4367\n",
              "3         0          0.3031         -0.8125  ...  0.1199 -0.4099 -2.9336\n",
              "4         0          0.4814         -0.9312  ...  0.0527  0.4379  2.4922\n",
              "\n",
              "[5 rows x 7 columns]"
            ]
          },
          "metadata": {
            "tags": []
          },
          "execution_count": 150
        }
      ]
    },
    {
      "cell_type": "code",
      "metadata": {
        "id": "0vk2tYQYrwwm"
      },
      "source": [
        "# suffling data \n",
        "from sklearn.utils import shuffle\n",
        "test  = shuffle(test)\n",
        "train = shuffle(train)\n"
      ],
      "execution_count": null,
      "outputs": []
    },
    {
      "cell_type": "code",
      "metadata": {
        "id": "Pf5QLxuuasbt"
      },
      "source": [
        "# separating data inputs and output lables \n",
        "trainData  = train.drop(\"activity\" , axis=1).values\n",
        "trainLabel = train.activity.values\n",
        "\n",
        "testData  = test.drop('activity' , axis=1).values\n",
        "testLabel = test.activity.values"
      ],
      "execution_count": null,
      "outputs": []
    },
    {
      "cell_type": "code",
      "metadata": {
        "id": "v5KjRq48bit3"
      },
      "source": [
        "# encoding labels \n",
        "from sklearn import preprocessing\n",
        "encoder = preprocessing.LabelEncoder()\n",
        "\n",
        "# encoding test labels \n",
        "encoder.fit(testLabel)\n",
        "testLabelE = encoder.transform(testLabel)\n",
        "\n",
        "# encoding train labels \n",
        "encoder.fit(trainLabel)\n",
        "trainLabelE = encoder.transform(trainLabel)"
      ],
      "execution_count": null,
      "outputs": []
    },
    {
      "cell_type": "code",
      "metadata": {
        "id": "sD8tmn8x10cn"
      },
      "source": [
        "# Define the function for training, testing and splitting\n",
        "def get_all_data():\n",
        "    train_values = train.values\n",
        "    test_values = test.values\n",
        "    np.random.shuffle(train_values)\n",
        "    np.random.shuffle(test_values)\n",
        "    X_train = train_values[:, 1:]\n",
        "    X_test = test_values[:, 1:]\n",
        "    y_train = train_values[:, 0]\n",
        "    y_test = test_values[:, 0]\n",
        "    return X_train, X_test, y_train, y_test"
      ],
      "execution_count": null,
      "outputs": []
    },
    {
      "cell_type": "code",
      "metadata": {
        "id": "_iex5Psm2ZL0",
        "outputId": "ebf308a9-a46d-45cb-ce49-fbbdbf670640",
        "colab": {
          "base_uri": "https://localhost:8080/",
          "height": 34
        }
      },
      "source": [
        "# Scale features to be between -1 and 1\n",
        "from sklearn.preprocessing import StandardScaler\n",
        "\n",
        "scaler = StandardScaler()\n",
        "\n",
        "X_train, X_test, y_train, y_test = get_all_data()\n",
        "scaler.fit(X_train)\n",
        "X_train = scaler.transform(X_train)\n",
        "X_test = scaler.transform(X_test)\n",
        "scaler.fit(X_train)"
      ],
      "execution_count": null,
      "outputs": [
        {
          "output_type": "execute_result",
          "data": {
            "text/plain": [
              "StandardScaler(copy=True, with_mean=True, with_std=True)"
            ]
          },
          "metadata": {
            "tags": []
          },
          "execution_count": 155
        }
      ]
    },
    {
      "cell_type": "code",
      "metadata": {
        "id": "gVHRodlT29pD"
      },
      "source": [
        "# target variable is categorical. so we will apply some classification model"
      ],
      "execution_count": null,
      "outputs": []
    },
    {
      "cell_type": "code",
      "metadata": {
        "id": "X5Wj51f1kgSR"
      },
      "source": [
        "# applying supervised neural network using multi-layer preceptron \n",
        "# we import our estimator from the neural_network library of SciKit-Learn!\n",
        "import sklearn.neural_network as nn \n",
        "mlpADAM  =  nn.MLPClassifier(hidden_layer_sizes=(15,)  \\\n",
        "                        , max_iter=1000 , alpha=1e-4  \\\n",
        "                        , solver='adam' , verbose=10   \\\n",
        "                        , tol=1e-19 , random_state=1  \\\n",
        "                        , learning_rate_init=.001)"
      ],
      "execution_count": null,
      "outputs": []
    },
    {
      "cell_type": "code",
      "metadata": {
        "id": "WVMtVuE96EY9",
        "outputId": "af00579d-9496-4dfa-cb81-ad6f07f23fc7",
        "colab": {
          "base_uri": "https://localhost:8080/",
          "height": 1000
        }
      },
      "source": [
        "mlpADAM.fit(X_train,y_train)"
      ],
      "execution_count": null,
      "outputs": [
        {
          "output_type": "stream",
          "text": [
            "Iteration 1, loss = 0.55885636\n",
            "Iteration 2, loss = 0.20559108\n",
            "Iteration 3, loss = 0.13353286\n",
            "Iteration 4, loss = 0.10321237\n",
            "Iteration 5, loss = 0.08599697\n",
            "Iteration 6, loss = 0.07523443\n",
            "Iteration 7, loss = 0.06826913\n",
            "Iteration 8, loss = 0.06355605\n",
            "Iteration 9, loss = 0.06029110\n",
            "Iteration 10, loss = 0.05790966\n",
            "Iteration 11, loss = 0.05608314\n",
            "Iteration 12, loss = 0.05472172\n",
            "Iteration 13, loss = 0.05362574\n",
            "Iteration 14, loss = 0.05267878\n",
            "Iteration 15, loss = 0.05190410\n",
            "Iteration 16, loss = 0.05117218\n",
            "Iteration 17, loss = 0.05054987\n",
            "Iteration 18, loss = 0.04985189\n",
            "Iteration 19, loss = 0.04925895\n",
            "Iteration 20, loss = 0.04865719\n",
            "Iteration 21, loss = 0.04807053\n",
            "Iteration 22, loss = 0.04751011\n",
            "Iteration 23, loss = 0.04701273\n",
            "Iteration 24, loss = 0.04652701\n",
            "Iteration 25, loss = 0.04605704\n",
            "Iteration 26, loss = 0.04562963\n",
            "Iteration 27, loss = 0.04514170\n",
            "Iteration 28, loss = 0.04479100\n",
            "Iteration 29, loss = 0.04439106\n",
            "Iteration 30, loss = 0.04396111\n",
            "Iteration 31, loss = 0.04370178\n",
            "Iteration 32, loss = 0.04348713\n",
            "Iteration 33, loss = 0.04317846\n",
            "Iteration 34, loss = 0.04283519\n",
            "Iteration 35, loss = 0.04262974\n",
            "Iteration 36, loss = 0.04240597\n",
            "Iteration 37, loss = 0.04206584\n",
            "Iteration 38, loss = 0.04194993\n",
            "Iteration 39, loss = 0.04173383\n",
            "Iteration 40, loss = 0.04146901\n",
            "Iteration 41, loss = 0.04134407\n",
            "Iteration 42, loss = 0.04111910\n",
            "Iteration 43, loss = 0.04094461\n",
            "Iteration 44, loss = 0.04084527\n",
            "Iteration 45, loss = 0.04078745\n",
            "Iteration 46, loss = 0.04054672\n",
            "Iteration 47, loss = 0.04044567\n",
            "Iteration 48, loss = 0.04022090\n",
            "Iteration 49, loss = 0.04021507\n",
            "Iteration 50, loss = 0.03997695\n",
            "Iteration 51, loss = 0.03993206\n",
            "Iteration 52, loss = 0.03975263\n",
            "Iteration 53, loss = 0.03967170\n",
            "Iteration 54, loss = 0.03955037\n",
            "Iteration 55, loss = 0.03943373\n",
            "Iteration 56, loss = 0.03940861\n",
            "Iteration 57, loss = 0.03931313\n",
            "Iteration 58, loss = 0.03917857\n",
            "Iteration 59, loss = 0.03912917\n",
            "Iteration 60, loss = 0.03894174\n",
            "Iteration 61, loss = 0.03894810\n",
            "Iteration 62, loss = 0.03883311\n",
            "Iteration 63, loss = 0.03876495\n",
            "Iteration 64, loss = 0.03872058\n",
            "Iteration 65, loss = 0.03859459\n",
            "Iteration 66, loss = 0.03857587\n",
            "Iteration 67, loss = 0.03843083\n",
            "Iteration 68, loss = 0.03842312\n",
            "Iteration 69, loss = 0.03839191\n",
            "Iteration 70, loss = 0.03819119\n",
            "Iteration 71, loss = 0.03819747\n",
            "Iteration 72, loss = 0.03814052\n",
            "Iteration 73, loss = 0.03806205\n",
            "Iteration 74, loss = 0.03793738\n",
            "Iteration 75, loss = 0.03789375\n",
            "Iteration 76, loss = 0.03791656\n",
            "Iteration 77, loss = 0.03776275\n",
            "Iteration 78, loss = 0.03782547\n",
            "Iteration 79, loss = 0.03772589\n",
            "Iteration 80, loss = 0.03766344\n",
            "Iteration 81, loss = 0.03764105\n",
            "Iteration 82, loss = 0.03756981\n",
            "Iteration 83, loss = 0.03752332\n",
            "Iteration 84, loss = 0.03750888\n",
            "Iteration 85, loss = 0.03746016\n",
            "Iteration 86, loss = 0.03742195\n",
            "Iteration 87, loss = 0.03735155\n",
            "Iteration 88, loss = 0.03734943\n",
            "Iteration 89, loss = 0.03730015\n",
            "Iteration 90, loss = 0.03724966\n",
            "Iteration 91, loss = 0.03720354\n",
            "Iteration 92, loss = 0.03715006\n",
            "Iteration 93, loss = 0.03711774\n",
            "Iteration 94, loss = 0.03707953\n",
            "Iteration 95, loss = 0.03707374\n",
            "Iteration 96, loss = 0.03706268\n",
            "Iteration 97, loss = 0.03700206\n",
            "Iteration 98, loss = 0.03698404\n",
            "Iteration 99, loss = 0.03688315\n",
            "Iteration 100, loss = 0.03688706\n",
            "Iteration 101, loss = 0.03682844\n",
            "Iteration 102, loss = 0.03679288\n",
            "Iteration 103, loss = 0.03678040\n",
            "Iteration 104, loss = 0.03679674\n",
            "Iteration 105, loss = 0.03667365\n",
            "Iteration 106, loss = 0.03664615\n",
            "Iteration 107, loss = 0.03657196\n",
            "Iteration 108, loss = 0.03660313\n",
            "Iteration 109, loss = 0.03658378\n",
            "Iteration 110, loss = 0.03657055\n",
            "Iteration 111, loss = 0.03645735\n",
            "Iteration 112, loss = 0.03643634\n",
            "Iteration 113, loss = 0.03643269\n",
            "Iteration 114, loss = 0.03637808\n",
            "Iteration 115, loss = 0.03638345\n",
            "Iteration 116, loss = 0.03637350\n",
            "Iteration 117, loss = 0.03636890\n",
            "Iteration 118, loss = 0.03627475\n",
            "Iteration 119, loss = 0.03620851\n",
            "Iteration 120, loss = 0.03627854\n",
            "Iteration 121, loss = 0.03617749\n",
            "Iteration 122, loss = 0.03616262\n",
            "Iteration 123, loss = 0.03623552\n",
            "Iteration 124, loss = 0.03609290\n",
            "Iteration 125, loss = 0.03606263\n",
            "Iteration 126, loss = 0.03606829\n",
            "Iteration 127, loss = 0.03597913\n",
            "Iteration 128, loss = 0.03603156\n",
            "Iteration 129, loss = 0.03592314\n",
            "Iteration 130, loss = 0.03592140\n",
            "Iteration 131, loss = 0.03589768\n",
            "Iteration 132, loss = 0.03592122\n",
            "Iteration 133, loss = 0.03583071\n",
            "Iteration 134, loss = 0.03582685\n",
            "Iteration 135, loss = 0.03581888\n",
            "Iteration 136, loss = 0.03575527\n",
            "Iteration 137, loss = 0.03576077\n",
            "Iteration 138, loss = 0.03576390\n",
            "Iteration 139, loss = 0.03564446\n",
            "Iteration 140, loss = 0.03573238\n",
            "Iteration 141, loss = 0.03561227\n",
            "Iteration 142, loss = 0.03564093\n",
            "Iteration 143, loss = 0.03554540\n",
            "Iteration 144, loss = 0.03550678\n",
            "Iteration 145, loss = 0.03558682\n",
            "Iteration 146, loss = 0.03555428\n",
            "Iteration 147, loss = 0.03547899\n",
            "Iteration 148, loss = 0.03551236\n",
            "Iteration 149, loss = 0.03545537\n",
            "Iteration 150, loss = 0.03545872\n",
            "Iteration 151, loss = 0.03545921\n",
            "Iteration 152, loss = 0.03535856\n",
            "Iteration 153, loss = 0.03535120\n",
            "Iteration 154, loss = 0.03531511\n",
            "Iteration 155, loss = 0.03532096\n",
            "Iteration 156, loss = 0.03525542\n",
            "Iteration 157, loss = 0.03535543\n",
            "Iteration 158, loss = 0.03521902\n",
            "Iteration 159, loss = 0.03522631\n",
            "Iteration 160, loss = 0.03511493\n",
            "Iteration 161, loss = 0.03515447\n",
            "Iteration 162, loss = 0.03515759\n",
            "Iteration 163, loss = 0.03511353\n",
            "Iteration 164, loss = 0.03511562\n",
            "Iteration 165, loss = 0.03501333\n",
            "Iteration 166, loss = 0.03507552\n",
            "Iteration 167, loss = 0.03501586\n",
            "Iteration 168, loss = 0.03494681\n",
            "Iteration 169, loss = 0.03501847\n",
            "Iteration 170, loss = 0.03495156\n",
            "Iteration 171, loss = 0.03490742\n",
            "Iteration 172, loss = 0.03490270\n",
            "Iteration 173, loss = 0.03491274\n",
            "Iteration 174, loss = 0.03493129\n",
            "Iteration 175, loss = 0.03487248\n",
            "Iteration 176, loss = 0.03484009\n",
            "Iteration 177, loss = 0.03483083\n",
            "Iteration 178, loss = 0.03485338\n",
            "Iteration 179, loss = 0.03483170\n",
            "Iteration 180, loss = 0.03474967\n",
            "Iteration 181, loss = 0.03476176\n",
            "Iteration 182, loss = 0.03473362\n",
            "Iteration 183, loss = 0.03471720\n",
            "Iteration 184, loss = 0.03468360\n",
            "Iteration 185, loss = 0.03468519\n",
            "Iteration 186, loss = 0.03473053\n",
            "Iteration 187, loss = 0.03466580\n",
            "Iteration 188, loss = 0.03462243\n",
            "Iteration 189, loss = 0.03462854\n",
            "Iteration 190, loss = 0.03471988\n",
            "Iteration 191, loss = 0.03465794\n",
            "Iteration 192, loss = 0.03462074\n",
            "Iteration 193, loss = 0.03461703\n",
            "Iteration 194, loss = 0.03462344\n",
            "Iteration 195, loss = 0.03457821\n",
            "Iteration 196, loss = 0.03458478\n",
            "Iteration 197, loss = 0.03452343\n",
            "Iteration 198, loss = 0.03450763\n",
            "Iteration 199, loss = 0.03460916\n",
            "Iteration 200, loss = 0.03453773\n",
            "Iteration 201, loss = 0.03452568\n",
            "Iteration 202, loss = 0.03446924\n",
            "Iteration 203, loss = 0.03448804\n",
            "Iteration 204, loss = 0.03447887\n",
            "Iteration 205, loss = 0.03446712\n",
            "Iteration 206, loss = 0.03450214\n",
            "Iteration 207, loss = 0.03446897\n",
            "Iteration 208, loss = 0.03449743\n",
            "Iteration 209, loss = 0.03448207\n",
            "Iteration 210, loss = 0.03439502\n",
            "Iteration 211, loss = 0.03436545\n",
            "Iteration 212, loss = 0.03442977\n",
            "Iteration 213, loss = 0.03450460\n",
            "Iteration 214, loss = 0.03439878\n",
            "Iteration 215, loss = 0.03441822\n",
            "Iteration 216, loss = 0.03441586\n",
            "Iteration 217, loss = 0.03436760\n",
            "Iteration 218, loss = 0.03435751\n",
            "Iteration 219, loss = 0.03435097\n",
            "Iteration 220, loss = 0.03435141\n",
            "Iteration 221, loss = 0.03430566\n",
            "Iteration 222, loss = 0.03427997\n",
            "Iteration 223, loss = 0.03437485\n",
            "Iteration 224, loss = 0.03437588\n",
            "Iteration 225, loss = 0.03426597\n",
            "Iteration 226, loss = 0.03435189\n",
            "Iteration 227, loss = 0.03428116\n",
            "Iteration 228, loss = 0.03431832\n",
            "Iteration 229, loss = 0.03432122\n",
            "Iteration 230, loss = 0.03425332\n",
            "Iteration 231, loss = 0.03424244\n",
            "Iteration 232, loss = 0.03420292\n",
            "Iteration 233, loss = 0.03431488\n",
            "Iteration 234, loss = 0.03413118\n",
            "Iteration 235, loss = 0.03422960\n",
            "Iteration 236, loss = 0.03424988\n",
            "Iteration 237, loss = 0.03417415\n",
            "Iteration 238, loss = 0.03422616\n",
            "Iteration 239, loss = 0.03421176\n",
            "Iteration 240, loss = 0.03425358\n",
            "Iteration 241, loss = 0.03413340\n",
            "Iteration 242, loss = 0.03419930\n",
            "Iteration 243, loss = 0.03411362\n",
            "Iteration 244, loss = 0.03420284\n",
            "Iteration 245, loss = 0.03421035\n",
            "Iteration 246, loss = 0.03412679\n",
            "Iteration 247, loss = 0.03413480\n",
            "Iteration 248, loss = 0.03409632\n",
            "Iteration 249, loss = 0.03414656\n",
            "Iteration 250, loss = 0.03420192\n",
            "Iteration 251, loss = 0.03410659\n",
            "Iteration 252, loss = 0.03408844\n",
            "Iteration 253, loss = 0.03419972\n",
            "Iteration 254, loss = 0.03412155\n",
            "Iteration 255, loss = 0.03411531\n",
            "Iteration 256, loss = 0.03414040\n",
            "Iteration 257, loss = 0.03416871\n",
            "Iteration 258, loss = 0.03412932\n",
            "Iteration 259, loss = 0.03416617\n",
            "Iteration 260, loss = 0.03415078\n",
            "Iteration 261, loss = 0.03408730\n",
            "Iteration 262, loss = 0.03410972\n",
            "Iteration 263, loss = 0.03404373\n",
            "Iteration 264, loss = 0.03412290\n",
            "Iteration 265, loss = 0.03404934\n",
            "Iteration 266, loss = 0.03403974\n",
            "Iteration 267, loss = 0.03405678\n",
            "Iteration 268, loss = 0.03402986\n",
            "Iteration 269, loss = 0.03403274\n",
            "Iteration 270, loss = 0.03397063\n",
            "Iteration 271, loss = 0.03401716\n",
            "Iteration 272, loss = 0.03401564\n",
            "Iteration 273, loss = 0.03398589\n",
            "Iteration 274, loss = 0.03400088\n",
            "Iteration 275, loss = 0.03395315\n",
            "Iteration 276, loss = 0.03394756\n",
            "Iteration 277, loss = 0.03394241\n",
            "Iteration 278, loss = 0.03400320\n",
            "Iteration 279, loss = 0.03399755\n",
            "Iteration 280, loss = 0.03397366\n",
            "Iteration 281, loss = 0.03397519\n",
            "Iteration 282, loss = 0.03392793\n",
            "Iteration 283, loss = 0.03385851\n",
            "Iteration 284, loss = 0.03393814\n",
            "Iteration 285, loss = 0.03387319\n",
            "Iteration 286, loss = 0.03381907\n",
            "Iteration 287, loss = 0.03382422\n",
            "Iteration 288, loss = 0.03384489\n",
            "Iteration 289, loss = 0.03389247\n",
            "Iteration 290, loss = 0.03376956\n",
            "Iteration 291, loss = 0.03383690\n",
            "Iteration 292, loss = 0.03372956\n",
            "Iteration 293, loss = 0.03373684\n",
            "Iteration 294, loss = 0.03374411\n",
            "Iteration 295, loss = 0.03372034\n",
            "Iteration 296, loss = 0.03379288\n",
            "Iteration 297, loss = 0.03364999\n",
            "Iteration 298, loss = 0.03359964\n",
            "Iteration 299, loss = 0.03367102\n",
            "Iteration 300, loss = 0.03360541\n",
            "Iteration 301, loss = 0.03366017\n",
            "Iteration 302, loss = 0.03357888\n",
            "Iteration 303, loss = 0.03359208\n",
            "Iteration 304, loss = 0.03354792\n",
            "Iteration 305, loss = 0.03351826\n",
            "Iteration 306, loss = 0.03351050\n",
            "Iteration 307, loss = 0.03348489\n",
            "Iteration 308, loss = 0.03351377\n",
            "Iteration 309, loss = 0.03350615\n",
            "Iteration 310, loss = 0.03345086\n",
            "Iteration 311, loss = 0.03352453\n",
            "Iteration 312, loss = 0.03348255\n",
            "Iteration 313, loss = 0.03341568\n",
            "Iteration 314, loss = 0.03340357\n",
            "Iteration 315, loss = 0.03335824\n",
            "Iteration 316, loss = 0.03335918\n",
            "Iteration 317, loss = 0.03344348\n",
            "Iteration 318, loss = 0.03342167\n",
            "Iteration 319, loss = 0.03337959\n",
            "Iteration 320, loss = 0.03338450\n",
            "Iteration 321, loss = 0.03333623\n",
            "Iteration 322, loss = 0.03336780\n",
            "Iteration 323, loss = 0.03337462\n",
            "Iteration 324, loss = 0.03334006\n",
            "Iteration 325, loss = 0.03328814\n",
            "Iteration 326, loss = 0.03327367\n",
            "Iteration 327, loss = 0.03331649\n",
            "Iteration 328, loss = 0.03329484\n",
            "Iteration 329, loss = 0.03321903\n",
            "Iteration 330, loss = 0.03325406\n",
            "Iteration 331, loss = 0.03321840\n",
            "Iteration 332, loss = 0.03324553\n",
            "Iteration 333, loss = 0.03320735\n",
            "Iteration 334, loss = 0.03320096\n",
            "Iteration 335, loss = 0.03322648\n",
            "Iteration 336, loss = 0.03322107\n",
            "Iteration 337, loss = 0.03320650\n",
            "Iteration 338, loss = 0.03315042\n",
            "Iteration 339, loss = 0.03323163\n",
            "Iteration 340, loss = 0.03315514\n",
            "Iteration 341, loss = 0.03324359\n",
            "Iteration 342, loss = 0.03318247\n",
            "Iteration 343, loss = 0.03317935\n",
            "Iteration 344, loss = 0.03311363\n",
            "Iteration 345, loss = 0.03322182\n",
            "Iteration 346, loss = 0.03313222\n",
            "Iteration 347, loss = 0.03319469\n",
            "Iteration 348, loss = 0.03310386\n",
            "Iteration 349, loss = 0.03313806\n",
            "Iteration 350, loss = 0.03312675\n",
            "Iteration 351, loss = 0.03310240\n",
            "Iteration 352, loss = 0.03316273\n",
            "Iteration 353, loss = 0.03319333\n",
            "Iteration 354, loss = 0.03312269\n",
            "Iteration 355, loss = 0.03304245\n",
            "Iteration 356, loss = 0.03310427\n",
            "Iteration 357, loss = 0.03305537\n",
            "Iteration 358, loss = 0.03310533\n",
            "Iteration 359, loss = 0.03309993\n",
            "Iteration 360, loss = 0.03305132\n",
            "Iteration 361, loss = 0.03303779\n",
            "Iteration 362, loss = 0.03312018\n",
            "Iteration 363, loss = 0.03310239\n",
            "Iteration 364, loss = 0.03302712\n",
            "Iteration 365, loss = 0.03308022\n",
            "Iteration 366, loss = 0.03306678\n",
            "Iteration 367, loss = 0.03304573\n",
            "Iteration 368, loss = 0.03304154\n",
            "Iteration 369, loss = 0.03303560\n",
            "Iteration 370, loss = 0.03301414\n",
            "Iteration 371, loss = 0.03300098\n",
            "Iteration 372, loss = 0.03305779\n",
            "Iteration 373, loss = 0.03300176\n",
            "Iteration 374, loss = 0.03297715\n",
            "Iteration 375, loss = 0.03302384\n",
            "Iteration 376, loss = 0.03307935\n",
            "Iteration 377, loss = 0.03297576\n",
            "Iteration 378, loss = 0.03302610\n",
            "Iteration 379, loss = 0.03304590\n",
            "Iteration 380, loss = 0.03293933\n",
            "Iteration 381, loss = 0.03296948\n",
            "Iteration 382, loss = 0.03299917\n",
            "Iteration 383, loss = 0.03296938\n",
            "Iteration 384, loss = 0.03299891\n",
            "Iteration 385, loss = 0.03288057\n",
            "Iteration 386, loss = 0.03293374\n",
            "Iteration 387, loss = 0.03289329\n",
            "Iteration 388, loss = 0.03294850\n",
            "Iteration 389, loss = 0.03293310\n",
            "Iteration 390, loss = 0.03293315\n",
            "Iteration 391, loss = 0.03292714\n",
            "Iteration 392, loss = 0.03294035\n",
            "Iteration 393, loss = 0.03291305\n",
            "Iteration 394, loss = 0.03290298\n",
            "Iteration 395, loss = 0.03286404\n",
            "Iteration 396, loss = 0.03290574\n",
            "Iteration 397, loss = 0.03293031\n",
            "Iteration 398, loss = 0.03292464\n",
            "Iteration 399, loss = 0.03298053\n",
            "Iteration 400, loss = 0.03289843\n",
            "Iteration 401, loss = 0.03290820\n",
            "Iteration 402, loss = 0.03293604\n",
            "Iteration 403, loss = 0.03295215\n",
            "Iteration 404, loss = 0.03295263\n",
            "Iteration 405, loss = 0.03291320\n",
            "Iteration 406, loss = 0.03290064\n",
            "Training loss did not improve more than tol=0.000000 for 10 consecutive epochs. Stopping.\n"
          ],
          "name": "stdout"
        },
        {
          "output_type": "execute_result",
          "data": {
            "text/plain": [
              "MLPClassifier(activation='relu', alpha=0.0001, batch_size='auto', beta_1=0.9,\n",
              "              beta_2=0.999, early_stopping=False, epsilon=1e-08,\n",
              "              hidden_layer_sizes=(15,), learning_rate='constant',\n",
              "              learning_rate_init=0.001, max_fun=15000, max_iter=1000,\n",
              "              momentum=0.9, n_iter_no_change=10, nesterovs_momentum=True,\n",
              "              power_t=0.5, random_state=1, shuffle=True, solver='adam',\n",
              "              tol=1e-19, validation_fraction=0.1, verbose=10, warm_start=False)"
            ]
          },
          "metadata": {
            "tags": []
          },
          "execution_count": 157
        }
      ]
    },
    {
      "cell_type": "code",
      "metadata": {
        "id": "BroNWl487T4d"
      },
      "source": [
        "# We can predict with the predict() method off of our fitted model\n",
        "predictions = mlpADAM.predict(X_test)"
      ],
      "execution_count": null,
      "outputs": []
    },
    {
      "cell_type": "code",
      "metadata": {
        "id": "MPaK0jbr7ome",
        "outputId": "d5e14282-d6dc-40c6-b93c-745fbf7ccc9d",
        "colab": {
          "base_uri": "https://localhost:8080/",
          "height": 51
        }
      },
      "source": [
        "# use SciKit-Learn's built in metrics such as a classification report and confusion matrix to evaluate how well our model performed:\n",
        "from sklearn.metrics import classification_report,confusion_matrix\n",
        "print(confusion_matrix(y_test,predictions))"
      ],
      "execution_count": null,
      "outputs": [
        {
          "output_type": "stream",
          "text": [
            "[[43843   380]\n",
            " [  572 43793]]\n"
          ],
          "name": "stdout"
        }
      ]
    },
    {
      "cell_type": "code",
      "metadata": {
        "id": "0E1tVXyP77Gh",
        "outputId": "e3aea892-79a7-4839-cf11-ae90412b3e99",
        "colab": {
          "base_uri": "https://localhost:8080/",
          "height": 170
        }
      },
      "source": [
        "print(classification_report(y_test,predictions))"
      ],
      "execution_count": null,
      "outputs": [
        {
          "output_type": "stream",
          "text": [
            "              precision    recall  f1-score   support\n",
            "\n",
            "         0.0       0.99      0.99      0.99     44223\n",
            "         1.0       0.99      0.99      0.99     44365\n",
            "\n",
            "    accuracy                           0.99     88588\n",
            "   macro avg       0.99      0.99      0.99     88588\n",
            "weighted avg       0.99      0.99      0.99     88588\n",
            "\n"
          ],
          "name": "stdout"
        }
      ]
    },
    {
      "cell_type": "code",
      "metadata": {
        "id": "IYjF7z6496Yw"
      },
      "source": [
        "#99% accuracy rate (as well as 99% precision and recall). This is pretty good considering how few lines of code \n",
        "#we had to write! The downside however to using a Multi-Layer Preceptron model is how difficult it is to interpret \n",
        "#the model itself. The weights and biases won't be easily interpretable in relation to which \n",
        "#features are important to the model itself."
      ],
      "execution_count": null,
      "outputs": []
    },
    {
      "cell_type": "markdown",
      "metadata": {
        "id": "vplSKWNi_T86"
      },
      "source": [
        "## Apply some transformations to the data and implement others models "
      ]
    },
    {
      "cell_type": "code",
      "metadata": {
        "id": "ySefHKpMhZcV",
        "outputId": "d1909623-02b5-49aa-8238-68ada43149d5",
        "colab": {
          "base_uri": "https://localhost:8080/",
          "height": 68
        }
      },
      "source": [
        "train_df = pd.read_csv(\"train.csv\")\n",
        "test_df = pd.read_csv(\"test.csv\")\n",
        "train_df.columns"
      ],
      "execution_count": null,
      "outputs": [
        {
          "output_type": "execute_result",
          "data": {
            "text/plain": [
              "Index(['date', 'time', 'username', 'wrist', 'activity', 'acceleration_x',\n",
              "       'acceleration_y', 'acceleration_z', 'gyro_x', 'gyro_y', 'gyro_z'],\n",
              "      dtype='object')"
            ]
          },
          "metadata": {
            "tags": []
          },
          "execution_count": 161
        }
      ]
    },
    {
      "cell_type": "code",
      "metadata": {
        "id": "3WrZKX4ohsyT",
        "outputId": "15a5ffc5-c164-49a9-d8e7-ea1eb08942dd",
        "colab": {
          "base_uri": "https://localhost:8080/",
          "height": 566
        }
      },
      "source": [
        "# Number of unique activities\n",
        "unique_activities = train_df.activity.unique()\n",
        "print(\"NUmber of unique activities: {}\".format(len(unique_activities)))\n",
        "replacer = {}\n",
        "for i, activity in enumerate(unique_activities):\n",
        "    replacer[activity] = i\n",
        "train_df.activity = train_df.activity.replace(replacer)\n",
        "test_df.activity = test_df.activity.replace(replacer)\n",
        "train_df.head(10)\n"
      ],
      "execution_count": null,
      "outputs": [
        {
          "output_type": "stream",
          "text": [
            "NUmber of unique activities: 2\n"
          ],
          "name": "stdout"
        },
        {
          "output_type": "execute_result",
          "data": {
            "text/html": [
              "<div>\n",
              "<style scoped>\n",
              "    .dataframe tbody tr th:only-of-type {\n",
              "        vertical-align: middle;\n",
              "    }\n",
              "\n",
              "    .dataframe tbody tr th {\n",
              "        vertical-align: top;\n",
              "    }\n",
              "\n",
              "    .dataframe thead th {\n",
              "        text-align: right;\n",
              "    }\n",
              "</style>\n",
              "<table border=\"1\" class=\"dataframe\">\n",
              "  <thead>\n",
              "    <tr style=\"text-align: right;\">\n",
              "      <th></th>\n",
              "      <th>date</th>\n",
              "      <th>time</th>\n",
              "      <th>username</th>\n",
              "      <th>wrist</th>\n",
              "      <th>activity</th>\n",
              "      <th>acceleration_x</th>\n",
              "      <th>acceleration_y</th>\n",
              "      <th>acceleration_z</th>\n",
              "      <th>gyro_x</th>\n",
              "      <th>gyro_y</th>\n",
              "      <th>gyro_z</th>\n",
              "    </tr>\n",
              "  </thead>\n",
              "  <tbody>\n",
              "    <tr>\n",
              "      <th>0</th>\n",
              "      <td>2017-6-30</td>\n",
              "      <td>13:51:15:847724020</td>\n",
              "      <td>viktor</td>\n",
              "      <td>0</td>\n",
              "      <td>0</td>\n",
              "      <td>0.2650</td>\n",
              "      <td>-0.7814</td>\n",
              "      <td>-0.0076</td>\n",
              "      <td>-0.0590</td>\n",
              "      <td>0.0325</td>\n",
              "      <td>-2.9296</td>\n",
              "    </tr>\n",
              "    <tr>\n",
              "      <th>1</th>\n",
              "      <td>2017-6-30</td>\n",
              "      <td>13:51:16:246945023</td>\n",
              "      <td>viktor</td>\n",
              "      <td>0</td>\n",
              "      <td>0</td>\n",
              "      <td>0.6722</td>\n",
              "      <td>-1.1233</td>\n",
              "      <td>-0.2344</td>\n",
              "      <td>-0.1757</td>\n",
              "      <td>0.0208</td>\n",
              "      <td>0.1269</td>\n",
              "    </tr>\n",
              "    <tr>\n",
              "      <th>2</th>\n",
              "      <td>2017-6-30</td>\n",
              "      <td>13:51:16:446233987</td>\n",
              "      <td>viktor</td>\n",
              "      <td>0</td>\n",
              "      <td>0</td>\n",
              "      <td>0.4399</td>\n",
              "      <td>-1.4817</td>\n",
              "      <td>0.0722</td>\n",
              "      <td>-0.9105</td>\n",
              "      <td>0.1063</td>\n",
              "      <td>-2.4367</td>\n",
              "    </tr>\n",
              "    <tr>\n",
              "      <th>3</th>\n",
              "      <td>2017-6-30</td>\n",
              "      <td>13:51:16:646117985</td>\n",
              "      <td>viktor</td>\n",
              "      <td>0</td>\n",
              "      <td>0</td>\n",
              "      <td>0.3031</td>\n",
              "      <td>-0.8125</td>\n",
              "      <td>0.0888</td>\n",
              "      <td>0.1199</td>\n",
              "      <td>-0.4099</td>\n",
              "      <td>-2.9336</td>\n",
              "    </tr>\n",
              "    <tr>\n",
              "      <th>4</th>\n",
              "      <td>2017-6-30</td>\n",
              "      <td>13:51:16:846738994</td>\n",
              "      <td>viktor</td>\n",
              "      <td>0</td>\n",
              "      <td>0</td>\n",
              "      <td>0.4814</td>\n",
              "      <td>-0.9312</td>\n",
              "      <td>0.0359</td>\n",
              "      <td>0.0527</td>\n",
              "      <td>0.4379</td>\n",
              "      <td>2.4922</td>\n",
              "    </tr>\n",
              "    <tr>\n",
              "      <th>5</th>\n",
              "      <td>2017-6-30</td>\n",
              "      <td>13:51:17:46806991</td>\n",
              "      <td>viktor</td>\n",
              "      <td>0</td>\n",
              "      <td>0</td>\n",
              "      <td>0.4044</td>\n",
              "      <td>-0.8056</td>\n",
              "      <td>-0.0956</td>\n",
              "      <td>0.6925</td>\n",
              "      <td>-0.2179</td>\n",
              "      <td>2.5750</td>\n",
              "    </tr>\n",
              "    <tr>\n",
              "      <th>6</th>\n",
              "      <td>2017-6-30</td>\n",
              "      <td>13:51:17:246767997</td>\n",
              "      <td>viktor</td>\n",
              "      <td>0</td>\n",
              "      <td>0</td>\n",
              "      <td>0.6320</td>\n",
              "      <td>-1.1290</td>\n",
              "      <td>-0.2982</td>\n",
              "      <td>0.0548</td>\n",
              "      <td>-0.1896</td>\n",
              "      <td>0.4473</td>\n",
              "    </tr>\n",
              "    <tr>\n",
              "      <th>7</th>\n",
              "      <td>2017-6-30</td>\n",
              "      <td>13:51:17:446569025</td>\n",
              "      <td>viktor</td>\n",
              "      <td>0</td>\n",
              "      <td>0</td>\n",
              "      <td>0.6670</td>\n",
              "      <td>-1.3503</td>\n",
              "      <td>-0.0880</td>\n",
              "      <td>-0.8094</td>\n",
              "      <td>-0.7938</td>\n",
              "      <td>-1.4348</td>\n",
              "    </tr>\n",
              "    <tr>\n",
              "      <th>8</th>\n",
              "      <td>2017-6-30</td>\n",
              "      <td>13:51:17:646152973</td>\n",
              "      <td>viktor</td>\n",
              "      <td>0</td>\n",
              "      <td>0</td>\n",
              "      <td>0.2704</td>\n",
              "      <td>-0.8633</td>\n",
              "      <td>0.1293</td>\n",
              "      <td>-0.4173</td>\n",
              "      <td>-0.1904</td>\n",
              "      <td>-2.6759</td>\n",
              "    </tr>\n",
              "    <tr>\n",
              "      <th>9</th>\n",
              "      <td>2017-6-30</td>\n",
              "      <td>13:51:17:846502006</td>\n",
              "      <td>viktor</td>\n",
              "      <td>0</td>\n",
              "      <td>0</td>\n",
              "      <td>0.4690</td>\n",
              "      <td>-1.0740</td>\n",
              "      <td>0.0219</td>\n",
              "      <td>0.0388</td>\n",
              "      <td>1.1491</td>\n",
              "      <td>1.6982</td>\n",
              "    </tr>\n",
              "  </tbody>\n",
              "</table>\n",
              "</div>"
            ],
            "text/plain": [
              "        date                time username  ...  gyro_x  gyro_y  gyro_z\n",
              "0  2017-6-30  13:51:15:847724020   viktor  ... -0.0590  0.0325 -2.9296\n",
              "1  2017-6-30  13:51:16:246945023   viktor  ... -0.1757  0.0208  0.1269\n",
              "2  2017-6-30  13:51:16:446233987   viktor  ... -0.9105  0.1063 -2.4367\n",
              "3  2017-6-30  13:51:16:646117985   viktor  ...  0.1199 -0.4099 -2.9336\n",
              "4  2017-6-30  13:51:16:846738994   viktor  ...  0.0527  0.4379  2.4922\n",
              "5  2017-6-30   13:51:17:46806991   viktor  ...  0.6925 -0.2179  2.5750\n",
              "6  2017-6-30  13:51:17:246767997   viktor  ...  0.0548 -0.1896  0.4473\n",
              "7  2017-6-30  13:51:17:446569025   viktor  ... -0.8094 -0.7938 -1.4348\n",
              "8  2017-6-30  13:51:17:646152973   viktor  ... -0.4173 -0.1904 -2.6759\n",
              "9  2017-6-30  13:51:17:846502006   viktor  ...  0.0388  1.1491  1.6982\n",
              "\n",
              "[10 rows x 11 columns]"
            ]
          },
          "metadata": {
            "tags": []
          },
          "execution_count": 162
        }
      ]
    },
    {
      "cell_type": "code",
      "metadata": {
        "id": "OV6lhPuckkWq"
      },
      "source": [
        "# Drop date, time and username and wrist\n",
        "train_df = train_df.drop([\"date\", \"time\", \"username\", \"wrist\"] , axis=1)\n",
        "test_df = test_df.drop([\"date\", \"time\", \"username\", \"wrist\"] , axis=1)"
      ],
      "execution_count": null,
      "outputs": []
    },
    {
      "cell_type": "code",
      "metadata": {
        "id": "e_VXdAf-lOL4",
        "outputId": "4eaf3c26-4f52-43f5-e543-a240bcd54b8e",
        "colab": {
          "base_uri": "https://localhost:8080/",
          "height": 204
        }
      },
      "source": [
        "train_df.head()"
      ],
      "execution_count": null,
      "outputs": [
        {
          "output_type": "execute_result",
          "data": {
            "text/html": [
              "<div>\n",
              "<style scoped>\n",
              "    .dataframe tbody tr th:only-of-type {\n",
              "        vertical-align: middle;\n",
              "    }\n",
              "\n",
              "    .dataframe tbody tr th {\n",
              "        vertical-align: top;\n",
              "    }\n",
              "\n",
              "    .dataframe thead th {\n",
              "        text-align: right;\n",
              "    }\n",
              "</style>\n",
              "<table border=\"1\" class=\"dataframe\">\n",
              "  <thead>\n",
              "    <tr style=\"text-align: right;\">\n",
              "      <th></th>\n",
              "      <th>activity</th>\n",
              "      <th>acceleration_x</th>\n",
              "      <th>acceleration_y</th>\n",
              "      <th>acceleration_z</th>\n",
              "      <th>gyro_x</th>\n",
              "      <th>gyro_y</th>\n",
              "      <th>gyro_z</th>\n",
              "    </tr>\n",
              "  </thead>\n",
              "  <tbody>\n",
              "    <tr>\n",
              "      <th>0</th>\n",
              "      <td>0</td>\n",
              "      <td>0.2650</td>\n",
              "      <td>-0.7814</td>\n",
              "      <td>-0.0076</td>\n",
              "      <td>-0.0590</td>\n",
              "      <td>0.0325</td>\n",
              "      <td>-2.9296</td>\n",
              "    </tr>\n",
              "    <tr>\n",
              "      <th>1</th>\n",
              "      <td>0</td>\n",
              "      <td>0.6722</td>\n",
              "      <td>-1.1233</td>\n",
              "      <td>-0.2344</td>\n",
              "      <td>-0.1757</td>\n",
              "      <td>0.0208</td>\n",
              "      <td>0.1269</td>\n",
              "    </tr>\n",
              "    <tr>\n",
              "      <th>2</th>\n",
              "      <td>0</td>\n",
              "      <td>0.4399</td>\n",
              "      <td>-1.4817</td>\n",
              "      <td>0.0722</td>\n",
              "      <td>-0.9105</td>\n",
              "      <td>0.1063</td>\n",
              "      <td>-2.4367</td>\n",
              "    </tr>\n",
              "    <tr>\n",
              "      <th>3</th>\n",
              "      <td>0</td>\n",
              "      <td>0.3031</td>\n",
              "      <td>-0.8125</td>\n",
              "      <td>0.0888</td>\n",
              "      <td>0.1199</td>\n",
              "      <td>-0.4099</td>\n",
              "      <td>-2.9336</td>\n",
              "    </tr>\n",
              "    <tr>\n",
              "      <th>4</th>\n",
              "      <td>0</td>\n",
              "      <td>0.4814</td>\n",
              "      <td>-0.9312</td>\n",
              "      <td>0.0359</td>\n",
              "      <td>0.0527</td>\n",
              "      <td>0.4379</td>\n",
              "      <td>2.4922</td>\n",
              "    </tr>\n",
              "  </tbody>\n",
              "</table>\n",
              "</div>"
            ],
            "text/plain": [
              "   activity  acceleration_x  acceleration_y  ...  gyro_x  gyro_y  gyro_z\n",
              "0         0          0.2650         -0.7814  ... -0.0590  0.0325 -2.9296\n",
              "1         0          0.6722         -1.1233  ... -0.1757  0.0208  0.1269\n",
              "2         0          0.4399         -1.4817  ... -0.9105  0.1063 -2.4367\n",
              "3         0          0.3031         -0.8125  ...  0.1199 -0.4099 -2.9336\n",
              "4         0          0.4814         -0.9312  ...  0.0527  0.4379  2.4922\n",
              "\n",
              "[5 rows x 7 columns]"
            ]
          },
          "metadata": {
            "tags": []
          },
          "execution_count": 164
        }
      ]
    },
    {
      "cell_type": "code",
      "metadata": {
        "id": "E_LyceW0lbEZ",
        "outputId": "a930420b-0f0c-4088-ae47-5b4ee7828ffc",
        "colab": {
          "base_uri": "https://localhost:8080/",
          "height": 204
        }
      },
      "source": [
        "test_df.head()"
      ],
      "execution_count": null,
      "outputs": [
        {
          "output_type": "execute_result",
          "data": {
            "text/html": [
              "<div>\n",
              "<style scoped>\n",
              "    .dataframe tbody tr th:only-of-type {\n",
              "        vertical-align: middle;\n",
              "    }\n",
              "\n",
              "    .dataframe tbody tr th {\n",
              "        vertical-align: top;\n",
              "    }\n",
              "\n",
              "    .dataframe thead th {\n",
              "        text-align: right;\n",
              "    }\n",
              "</style>\n",
              "<table border=\"1\" class=\"dataframe\">\n",
              "  <thead>\n",
              "    <tr style=\"text-align: right;\">\n",
              "      <th></th>\n",
              "      <th>activity</th>\n",
              "      <th>acceleration_x</th>\n",
              "      <th>acceleration_y</th>\n",
              "      <th>acceleration_z</th>\n",
              "      <th>gyro_x</th>\n",
              "      <th>gyro_y</th>\n",
              "      <th>gyro_z</th>\n",
              "    </tr>\n",
              "  </thead>\n",
              "  <tbody>\n",
              "    <tr>\n",
              "      <th>0</th>\n",
              "      <td>0</td>\n",
              "      <td>0.2650</td>\n",
              "      <td>-0.7814</td>\n",
              "      <td>-0.0076</td>\n",
              "      <td>-0.0590</td>\n",
              "      <td>0.0325</td>\n",
              "      <td>-2.9296</td>\n",
              "    </tr>\n",
              "    <tr>\n",
              "      <th>1</th>\n",
              "      <td>0</td>\n",
              "      <td>0.6722</td>\n",
              "      <td>-1.1233</td>\n",
              "      <td>-0.2344</td>\n",
              "      <td>-0.1757</td>\n",
              "      <td>0.0208</td>\n",
              "      <td>0.1269</td>\n",
              "    </tr>\n",
              "    <tr>\n",
              "      <th>2</th>\n",
              "      <td>0</td>\n",
              "      <td>0.4399</td>\n",
              "      <td>-1.4817</td>\n",
              "      <td>0.0722</td>\n",
              "      <td>-0.9105</td>\n",
              "      <td>0.1063</td>\n",
              "      <td>-2.4367</td>\n",
              "    </tr>\n",
              "    <tr>\n",
              "      <th>3</th>\n",
              "      <td>0</td>\n",
              "      <td>0.3031</td>\n",
              "      <td>-0.8125</td>\n",
              "      <td>0.0888</td>\n",
              "      <td>0.1199</td>\n",
              "      <td>-0.4099</td>\n",
              "      <td>-2.9336</td>\n",
              "    </tr>\n",
              "    <tr>\n",
              "      <th>4</th>\n",
              "      <td>0</td>\n",
              "      <td>0.4814</td>\n",
              "      <td>-0.9312</td>\n",
              "      <td>0.0359</td>\n",
              "      <td>0.0527</td>\n",
              "      <td>0.4379</td>\n",
              "      <td>2.4922</td>\n",
              "    </tr>\n",
              "  </tbody>\n",
              "</table>\n",
              "</div>"
            ],
            "text/plain": [
              "   activity  acceleration_x  acceleration_y  ...  gyro_x  gyro_y  gyro_z\n",
              "0         0          0.2650         -0.7814  ... -0.0590  0.0325 -2.9296\n",
              "1         0          0.6722         -1.1233  ... -0.1757  0.0208  0.1269\n",
              "2         0          0.4399         -1.4817  ... -0.9105  0.1063 -2.4367\n",
              "3         0          0.3031         -0.8125  ...  0.1199 -0.4099 -2.9336\n",
              "4         0          0.4814         -0.9312  ...  0.0527  0.4379  2.4922\n",
              "\n",
              "[5 rows x 7 columns]"
            ]
          },
          "metadata": {
            "tags": []
          },
          "execution_count": 165
        }
      ]
    },
    {
      "cell_type": "code",
      "metadata": {
        "id": "NwN5IsMjluWZ"
      },
      "source": [
        "# Define the function for training, testing and splitting\n",
        "def get_all_data():\n",
        "    train_values = train_df.values\n",
        "    test_values = test_df.values\n",
        "    np.random.shuffle(train_values)\n",
        "    np.random.shuffle(test_values)\n",
        "    X_train = train_values[:, 1:]\n",
        "    X_test = test_values[:, 1:]\n",
        "    y_train = train_values[:, 0]\n",
        "    y_test = test_values[:, 0]\n",
        "    return X_train, X_test, y_train, y_test"
      ],
      "execution_count": null,
      "outputs": []
    },
    {
      "cell_type": "markdown",
      "metadata": {
        "id": "OrBwpu5zAiz7"
      },
      "source": [
        "## logistic regression model"
      ]
    },
    {
      "cell_type": "code",
      "metadata": {
        "id": "ee_o-XpXpF8t",
        "outputId": "315bf999-af72-423c-8c0d-f2da563f7b09",
        "colab": {
          "base_uri": "https://localhost:8080/",
          "height": 34
        }
      },
      "source": [
        "# Logistic regression model\n",
        "from sklearn.linear_model import LogisticRegression\n",
        "X_train, X_test, y_train, y_test = get_all_data()\n",
        "model = LogisticRegression()\n",
        "model.fit(X_train, y_train)\n",
        "model.score(X_test, y_test)"
      ],
      "execution_count": null,
      "outputs": [
        {
          "output_type": "execute_result",
          "data": {
            "text/plain": [
              "0.8523953582878042"
            ]
          },
          "metadata": {
            "tags": []
          },
          "execution_count": 167
        }
      ]
    },
    {
      "cell_type": "code",
      "metadata": {
        "id": "0yB0P19aA1S3"
      },
      "source": [
        "#logistic regression : 85,23%"
      ],
      "execution_count": null,
      "outputs": []
    },
    {
      "cell_type": "markdown",
      "metadata": {
        "id": "B5W8f-zeAzKd"
      },
      "source": [
        "## Try PCA"
      ]
    },
    {
      "cell_type": "code",
      "metadata": {
        "id": "4lTynmhFsgDG",
        "outputId": "73cb5f45-5c78-47ad-ea7a-78a6855886d7",
        "colab": {
          "base_uri": "https://localhost:8080/",
          "height": 34
        }
      },
      "source": [
        "# Try some transformations\n",
        "from sklearn.decomposition import PCA\n",
        "\n",
        "X_train, X_test, y_train, y_test = get_all_data() #generating the training set\n",
        "pca = PCA(n_components=4) # initializing the PCA\n",
        "pca.fit(X_train) #applying PCA\n",
        "X_train = pca.transform(X_train) # transforming the dataset\n",
        "X_test = pca.transform(X_test)\n",
        "\n",
        "model.fit(X_train, y_train) #creating model\n",
        "model.score(X_test, y_test) #score"
      ],
      "execution_count": null,
      "outputs": [
        {
          "output_type": "execute_result",
          "data": {
            "text/plain": [
              "0.60020544543279"
            ]
          },
          "metadata": {
            "tags": []
          },
          "execution_count": 168
        }
      ]
    },
    {
      "cell_type": "code",
      "metadata": {
        "id": "CJnCS2oGBs1u"
      },
      "source": [
        "# worse performance , but trains faster"
      ],
      "execution_count": null,
      "outputs": []
    },
    {
      "cell_type": "code",
      "metadata": {
        "id": "FSb7Sytum73t",
        "outputId": "6e7b6e45-0163-4b19-c55b-7999dc141a02",
        "colab": {
          "base_uri": "https://localhost:8080/",
          "height": 34
        }
      },
      "source": [
        "# Scale features to be between -1 and 1\n",
        "from sklearn.preprocessing import StandardScaler\n",
        "\n",
        "scaler = StandardScaler()\n",
        "\n",
        "X_train, X_test, y_train, y_test = get_all_data()\n",
        "scaler.fit(X_train)\n",
        "X_train = scaler.transform(X_train)\n",
        "X_test = scaler.transform(X_test)\n",
        "\n",
        "model.fit(X_train, y_train)\n",
        "model.score(X_test, y_test)"
      ],
      "execution_count": null,
      "outputs": [
        {
          "output_type": "execute_result",
          "data": {
            "text/plain": [
              "0.8524405111301756"
            ]
          },
          "metadata": {
            "tags": []
          },
          "execution_count": 169
        }
      ]
    },
    {
      "cell_type": "code",
      "metadata": {
        "id": "-IOFSVgoChNT"
      },
      "source": [
        "# little increase in performance here"
      ],
      "execution_count": null,
      "outputs": []
    },
    {
      "cell_type": "markdown",
      "metadata": {
        "id": "k3PUDJn5Xqrm"
      },
      "source": [
        "## Classification and evaluation of Human Activity with neural network using keras"
      ]
    },
    {
      "cell_type": "code",
      "metadata": {
        "id": "Cii0QOPrtzks"
      },
      "source": [
        "# Neural network model\n",
        "\n",
        "from keras.models import Sequential\n",
        "from keras.layers import Dense\n",
        "from keras.wrappers.scikit_learn import KerasClassifier\n",
        "from keras.utils.np_utils import to_categorical"
      ],
      "execution_count": null,
      "outputs": []
    },
    {
      "cell_type": "code",
      "metadata": {
        "id": "ti3QFXLRt-b_"
      },
      "source": [
        "X_train, X_test, y_train, y_test = get_all_data()\n",
        "scaler.fit(X_train)\n",
        "X_train = scaler.transform(X_train)\n",
        "X_test = scaler.transform(X_test)"
      ],
      "execution_count": null,
      "outputs": []
    },
    {
      "cell_type": "code",
      "metadata": {
        "id": "7c5ENLrYuGC0",
        "outputId": "8278c306-89c4-41fa-94aa-913a36682827",
        "colab": {
          "base_uri": "https://localhost:8080/",
          "height": 51
        }
      },
      "source": [
        "n_input = X_train.shape[1] # number of features X_train.shape[1]\n",
        "n_output = 2 # number of possible labels\n",
        "n_samples = X_train.shape[0] # number of training samples\n",
        "n_hidden_units = 15\n",
        "Y_train = to_categorical(y_train)\n",
        "Y_test = to_categorical(y_test)\n",
        "print(Y_train.shape)\n",
        "print(Y_test.shape)"
      ],
      "execution_count": null,
      "outputs": [
        {
          "output_type": "stream",
          "text": [
            "(88588, 2)\n",
            "(88588, 2)\n"
          ],
          "name": "stdout"
        }
      ]
    },
    {
      "cell_type": "markdown",
      "metadata": {
        "id": "2t070YHyDD4H"
      },
      "source": [
        "## Configure model callbacks including early stopping "
      ]
    },
    {
      "cell_type": "code",
      "metadata": {
        "id": "YjFW0LY_C1aR"
      },
      "source": [
        "from keras.callbacks import Callback\n",
        "from keras.callbacks import EarlyStopping\n",
        "class LossHistory(Callback):\n",
        "    def on_train_begin(self, logs={}):\n",
        "        self.losses = []\n",
        "\n",
        "    def on_batch_end(self, batch, logs={}):\n",
        "        self.losses.append(logs.get('loss'))\n",
        "        \n",
        "loss_history = LossHistory()\n",
        "early_stopping = EarlyStopping(monitor='val_acc', patience=20)"
      ],
      "execution_count": null,
      "outputs": []
    },
    {
      "cell_type": "markdown",
      "metadata": {
        "id": "gJZ2faJ5XXCf"
      },
      "source": [
        " ## Define the model"
      ]
    },
    {
      "cell_type": "code",
      "metadata": {
        "id": "n0Csqrhxu8S_"
      },
      "source": [
        "# Define the model\n",
        "def create_model():\n",
        "    model = Sequential()\n",
        "    model.add(Dense(n_hidden_units,\n",
        "                    input_dim=n_input,\n",
        "                    activation=\"relu\"))\n",
        "    model.add(Dense(n_hidden_units,\n",
        "                    input_dim=n_input,\n",
        "                    activation=\"relu\"))\n",
        "    \n",
        "    model.add(Dense(n_output, activation=\"softmax\"))\n",
        "    # Compile model\n",
        "    model.compile(loss=\"categorical_crossentropy\", optimizer=\"adam\", metrics=['accuracy'])\n",
        "    return model"
      ],
      "execution_count": null,
      "outputs": []
    },
    {
      "cell_type": "markdown",
      "metadata": {
        "id": "6RlG9UiMCAR6"
      },
      "source": [
        "## Assemble classifier and train it¶"
      ]
    },
    {
      "cell_type": "code",
      "metadata": {
        "id": "aeadPintvFsI",
        "outputId": "e11c7fb4-d652-40b5-e8d1-53dfcd116701",
        "colab": {
          "base_uri": "https://localhost:8080/",
          "height": 34
        }
      },
      "source": [
        "# create model\n",
        "estimator = KerasClassifier(build_fn=create_model, epochs=20, batch_size=10, verbose=False)\n",
        "estimator.fit(X_train, Y_train)\n",
        "print(\"Score: {}\".format(estimator.score(X_test, Y_test)))"
      ],
      "execution_count": null,
      "outputs": [
        {
          "output_type": "stream",
          "text": [
            "Score: 0.9913419485092163\n"
          ],
          "name": "stdout"
        }
      ]
    },
    {
      "cell_type": "code",
      "metadata": {
        "id": "Grn6TBM7x7Uv"
      },
      "source": [
        "# accuracy 99.13%"
      ],
      "execution_count": null,
      "outputs": []
    },
    {
      "cell_type": "markdown",
      "metadata": {
        "id": "rEEr0O1yyZVa"
      },
      "source": [
        "## Random Forest model"
      ]
    },
    {
      "cell_type": "code",
      "metadata": {
        "id": "LQ5v1hXjyc1q"
      },
      "source": [
        "###### Random Forest #######\n",
        "from sklearn import preprocessing\n",
        "encoder = preprocessing.LabelEncoder()\n",
        "trainData  = train.drop('activity' , axis=1).values\n",
        "trainLabel = train.activity.values\n",
        "\n",
        "testData  = test.drop('activity' , axis=1).values\n",
        "testLabel = test.activity.values\n"
      ],
      "execution_count": null,
      "outputs": []
    },
    {
      "cell_type": "code",
      "metadata": {
        "id": "ArRO77AZ20yC",
        "outputId": "74eb52d1-b7c3-42df-fef8-58fe02c59956",
        "colab": {
          "base_uri": "https://localhost:8080/",
          "height": 34
        }
      },
      "source": [
        "from sklearn.ensemble import RandomForestClassifier\n",
        "from sklearn.metrics import accuracy_score\n",
        "# encoding test labels \n",
        "encoder.fit(testLabel)\n",
        "testLabelEncoder = encoder.transform(testLabel)\n",
        "\n",
        "# encoding train labels \n",
        "encoder.fit(trainLabel)\n",
        "trainLabelEncoder = encoder.transform(trainLabel)\n",
        "\n",
        "rf = RandomForestClassifier(n_estimators=200,  n_jobs=4, min_samples_leaf=10)    \n",
        "#train\n",
        "rf.fit(trainData, trainLabelEncoder)\n",
        "\n",
        "y_te_pred = rf.predict(testData)\n",
        "\n",
        "acc = accuracy_score(testLabelEncoder, y_te_pred)\n",
        "print(\"Random Forest Accuracy: %.5f\" % (acc))"
      ],
      "execution_count": null,
      "outputs": [
        {
          "output_type": "stream",
          "text": [
            "Random Forest Accuracy: 0.99162\n"
          ],
          "name": "stdout"
        }
      ]
    },
    {
      "cell_type": "code",
      "metadata": {
        "id": "DeJ9uwsI0hOE"
      },
      "source": [
        "# Random Forest Accuracy: 99.162"
      ],
      "execution_count": null,
      "outputs": []
    },
    {
      "cell_type": "markdown",
      "metadata": {
        "id": "JqKHNjXRpNWw"
      },
      "source": [
        "## K-Nearest Neighbors model"
      ]
    },
    {
      "cell_type": "code",
      "metadata": {
        "id": "spefr5z-4UCJ",
        "outputId": "2350ebb2-67f2-496c-ac1f-b62f588a3350",
        "colab": {
          "base_uri": "https://localhost:8080/",
          "height": 34
        }
      },
      "source": [
        "from sklearn.neighbors import KNeighborsClassifier\n",
        "##### K-Nearest Neighbors ######\n",
        "clf = KNeighborsClassifier(n_neighbors=24)\n",
        "\n",
        "knnModel = clf.fit(trainData , trainLabelEncoder)\n",
        "y_te_pred = clf.predict(testData)\n",
        "\n",
        "acc = accuracy_score(testLabelEncoder, y_te_pred)\n",
        "print(\"K-Nearest Neighbors Accuracy: %.5f\" % (acc))"
      ],
      "execution_count": null,
      "outputs": [
        {
          "output_type": "stream",
          "text": [
            "K-Nearest Neighbors Accuracy: 0.98064\n"
          ],
          "name": "stdout"
        }
      ]
    },
    {
      "cell_type": "code",
      "metadata": {
        "id": "j_x-oGS5XArg"
      },
      "source": [
        "K-Nearest Neighbors Accuracy: 98.064 % "
      ],
      "execution_count": null,
      "outputs": []
    }
  ]
}